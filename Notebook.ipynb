{
 "metadata": {
  "language_info": {
   "codemirror_mode": {
    "name": "ipython",
    "version": 3
   },
   "file_extension": ".py",
   "mimetype": "text/x-python",
   "name": "python",
   "nbconvert_exporter": "python",
   "pygments_lexer": "ipython3",
   "version": "3.8.3-final"
  },
  "orig_nbformat": 2,
  "kernelspec": {
   "name": "python_defaultSpec_1600637355577",
   "display_name": "Python 3.8.3 64-bit ('base': conda)"
  }
 },
 "nbformat": 4,
 "nbformat_minor": 2,
 "cells": [
  {
   "cell_type": "code",
   "execution_count": 2,
   "metadata": {
    "tags": []
   },
   "outputs": [
    {
     "output_type": "stream",
     "name": "stdout",
     "text": "El número menor del conjunto A es:  2  en el índice:  4\n"
    }
   ],
   "source": [
    "# AS1 Minimo de un arreglo\n",
    "A = [6,3,9,2,5,4]\n",
    "j = len(A)\n",
    "minimo = 0\n",
    "for i in range(j):\n",
    "    if (A[i]<A[minimo]):\n",
    "        minimo = i\n",
    "print(\"El número menor del conjunto A es: \", A[minimo], \" en el índice: \", minimo+1)"
   ]
  },
  {
   "cell_type": "code",
   "execution_count": 3,
   "metadata": {
    "tags": []
   },
   "outputs": [
    {
     "output_type": "stream",
     "name": "stdout",
     "text": "El arreglo A ordenado es:  [0, 1, 2, 3, 4, 5, 5, 6, 7, 8, 9, 10, 600, 700, 1023]\n"
    }
   ],
   "source": [
    "# Insertion - sort\n",
    "A = [5,2,4,6,1,3,10,7,8,9,1023,600,700,5,0]\n",
    "Lenght = len(A)\n",
    "\n",
    "for j in range(Lenght):\n",
    "    if (j >= 1):\n",
    "        key = A[j]\n",
    "        i = j-1\n",
    "        for i in range(i, -1, -1):\n",
    "            if (A[i] > key):\n",
    "                A.insert(i+2, A[i])\n",
    "                del A[i]\n",
    "print (\"El arreglo A ordenado es: \", A)\n"
   ]
  },
  {
   "cell_type": "code",
   "execution_count": 142,
   "metadata": {
    "tags": []
   },
   "outputs": [
    {
     "output_type": "stream",
     "name": "stdout",
     "text": "Prueba de Bubblesort:  [1, 2, 3, 4, 5, 5, 6, 9, 24, 87]\n"
    }
   ],
   "source": [
    "# Bubble - sort \n",
    "A = [5,2,4,6,1,3,5,9,24,87]\n",
    "Lenght = len(A)\n",
    "\n",
    "for i in range(Lenght):\n",
    "    for j in range(Lenght-1,i,-1):\n",
    "        if (A[j] < A[j-1]):\n",
    "            A.insert(j+1,A[j-1])\n",
    "            del A[j-1]\n",
    "            \n",
    "print(\"Prueba de Bubblesort: \", A)\n"
   ]
  },
  {
   "cell_type": "code",
   "execution_count": 14,
   "metadata": {
    "tags": []
   },
   "outputs": [
    {
     "output_type": "stream",
     "name": "stdout",
     "text": "Flag:  True  pos:  2\n"
    }
   ],
   "source": [
    "# AS2 Encontrar un valor (a) en el arreglo, TRUE si se encuentra\n",
    "A = [6,3,1,2,5,4]\n",
    "j = len(A)\n",
    "a = 1\n",
    "pos = None\n",
    "flag = False\n",
    "for i in range(j):\n",
    "    if (A[i] == a):\n",
    "        flag = True\n",
    "        pos = i\n",
    "        \n",
    "print(\"Flag: \", flag, \" pos: \", pos)"
   ]
  },
  {
   "cell_type": "code",
   "execution_count": 105,
   "metadata": {
    "tags": []
   },
   "outputs": [
    {
     "output_type": "stream",
     "name": "stdout",
     "text": "Prueba de Fusion:  [4, 4, 4, 4, 4, 4, 4, 4, 4, 4, 4, 4, 4, 4, 4, 4, 4, 4, 4, 4, 4, 4, 4, 4, 4, 4, 4, 4, 4, 4, 4, 4, 4, 4, 4, 4, 4, 4, 4, 4, 4, 4, 4, 4, 4, 4, 4, 4, 4, 4, 4, 4, 4, 4, 4, 4, 4, 4, 4, 4, 4, 4, 4, 4] [1, 1, 1, 1, 1, 1, 1, 1, 1, 1, 1, 1, 1, 1, 1, 1, 1, 1, 1, 1, 1, 1, 1, 1, 1, 1, 1, 1, 1, 1, 1, 1, 1, 1, 1, 1, 1, 1, 1, 1, 1, 1, 1, 1, 1, 1, 1, 1, 1, 1, 1, 1, 1, 1, 1, 1, 1, 1, 1, 1, 1, 1, 1, 1] [1, 1, 1, 1, 1, 1, 1, 2, 4, 5, 7, 1, 2, 3, 6]\n"
    }
   ],
   "source": [
    "A = [2,4,5,7,1,2,3,6]\n",
    "p = 0 \n",
    "q = 3 \n",
    "r = 7 \n",
    "n1 = q - p + 1 #tamaño array 1\n",
    "n2 = r - q #tamaño array 2\n",
    "L.clear\n",
    "R.clear\n",
    "for i in range(n1):\n",
    "    L.insert(i, A[p+1])\n",
    "for j in range(n2):\n",
    "    R.insert(j, A[q+1])\n",
    "i = 1\n",
    "j = 1\n",
    "k = p\n",
    "for k in range(r):\n",
    "    if L[i] <= R[j]:\n",
    "        A.insert(k,L[i])\n",
    "        i = i + 1\n",
    "    else: \n",
    "        A.insert(k,R[j])\n",
    "        j = j + 1\n",
    "print(\"Prueba de Fusion: \", L, R, A)\n"
   ]
  },
  {
   "cell_type": "code",
   "execution_count": null,
   "metadata": {},
   "outputs": [],
   "source": []
  }
 ]
}