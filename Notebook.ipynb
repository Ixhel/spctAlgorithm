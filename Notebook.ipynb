{
 "metadata": {
  "language_info": {
   "codemirror_mode": {
    "name": "ipython",
    "version": 3
   },
   "file_extension": ".py",
   "mimetype": "text/x-python",
   "name": "python",
   "nbconvert_exporter": "python",
   "pygments_lexer": "ipython3",
   "version": "3.8.3-final"
  },
  "orig_nbformat": 2,
  "kernelspec": {
   "name": "python_defaultSpec_1600637355577",
   "display_name": "Python 3.8.3 64-bit ('base': conda)"
  }
 },
 "nbformat": 4,
 "nbformat_minor": 2,
 "cells": [
  {
   "cell_type": "code",
   "execution_count": 2,
   "metadata": {
    "tags": []
   },
   "outputs": [
    {
     "output_type": "stream",
     "name": "stdout",
     "text": "El número menor del conjunto A es:  2  en el índice:  4\n"
    }
   ],
   "source": [
    "# AS1 Minimo de un arreglo\n",
    "A = [6,3,9,2,5,4]\n",
    "j = len(A)\n",
    "minimo = 0\n",
    "for i in range(j):\n",
    "    if (A[i]<A[minimo]):\n",
    "        minimo = i\n",
    "print(\"El número menor del conjunto A es: \", A[minimo], \" en el índice: \", minimo+1)"
   ]
  },
  {
   "cell_type": "code",
   "execution_count": 3,
   "metadata": {
    "tags": []
   },
   "outputs": [
    {
     "output_type": "stream",
     "name": "stdout",
     "text": "El arreglo A ordenado es:  [0, 1, 2, 3, 4, 5, 5, 6, 7, 8, 9, 10, 600, 700, 1023]\n"
    }
   ],
   "source": [
    "# Insertion - sort\n",
    "A = [5,2,4,6,1,3,10,7,8,9,1023,600,700,5,0]\n",
    "Length = len(A)\n",
    "\n",
    "for j in range(Length):\n",
    "    if (j >= 1):\n",
    "        key = A[j]\n",
    "        i = j-1\n",
    "        for i in range(i, -1, -1):\n",
    "            if (A[i] > key):\n",
    "                A.insert(i+2, A[i])\n",
    "                del A[i]\n",
    "print (\"El arreglo A ordenado es: \", A)\n"
   ]
  },
  {
   "cell_type": "code",
   "execution_count": 142,
   "metadata": {
    "tags": []
   },
   "outputs": [
    {
     "output_type": "stream",
     "name": "stdout",
     "text": "Prueba de Bubblesort:  [1, 2, 3, 4, 5, 5, 6, 9, 24, 87]\n"
    }
   ],
   "source": [
    "# Bubble - sort \n",
    "A = [5,2,4,6,1,3,5,9,24,87]\n",
    "Length = len(A)\n",
    "\n",
    "for i in range(Length):\n",
    "    for j in range(Length-1,i,-1):\n",
    "        if (A[j] < A[j-1]):\n",
    "            A.insert(j+1,A[j-1])\n",
    "            del A[j-1]\n",
    "            \n",
    "print(\"Prueba de Bubblesort: \", A)\n"
   ]
  },
  {
   "cell_type": "code",
   "execution_count": 14,
   "metadata": {
    "tags": []
   },
   "outputs": [
    {
     "output_type": "stream",
     "name": "stdout",
     "text": "Flag:  True  pos:  2\n"
    }
   ],
   "source": [
    "# AS2 Encontrar un valor (a) en el arreglo, TRUE si se encuentra\n",
    "A = [6,3,1,2,5,4]\n",
    "j = len(A)\n",
    "a = 1\n",
    "pos = None\n",
    "flag = False\n",
    "for i in range(j):\n",
    "    if (A[i] == a):\n",
    "        flag = True\n",
    "        pos = i\n",
    "        \n",
    "print(\"Flag: \", flag, \" pos: \", pos)"
   ]
  },
  {
   "cell_type": "code",
   "execution_count": null,
   "metadata": {},
   "outputs": [],
   "source": [
    "# Merge - sort"
   ]
  }
 ]
}
